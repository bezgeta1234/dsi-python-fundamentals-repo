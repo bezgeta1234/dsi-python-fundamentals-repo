{
 "cells": [
  {
   "cell_type": "markdown",
   "metadata": {},
   "source": [
    "### Write programs that use multiple function together"
   ]
  },
  {
   "cell_type": "markdown",
   "metadata": {},
   "source": [
    "#### Replicate \"wc\" in commandline\n",
    "wc - word count\n",
    "\n",
    "1. Create a text file with a couple of random sentences e.g. testfile.txt\n",
    "2. Open terminal\n",
    "3. Navigate to directory where testfile.txt is kept\n",
    "4. Type: wc testfile.txt --> this will get you the number of characters, words and lines in your txt file.\n",
    "\n",
    "**Class exercise:** replicate the word count function in Python\n",
    "1. Create functions for each individual step - count all characters, count the words, count the number of lines\n",
    "2. Write a program that uses the multiple function"
   ]
  },
  {
   "cell_type": "code",
   "execution_count": 97,
   "metadata": {
    "collapsed": true
   },
   "outputs": [],
   "source": [
    "def count_characters(text):\n",
    "    \n",
    "    \"\"\"Return num of char in txt\n",
    "    \n",
    "    >>> count_characters('Hello.')\n",
    "    6\n",
    "    \"\"\"\n",
    "    return len(text)"
   ]
  },
  {
   "cell_type": "code",
   "execution_count": null,
   "metadata": {
    "collapsed": true
   },
   "outputs": [],
   "source": [
    "def count_words (text):\n",
    "    \"\"\"Return num of words in txt\n",
    "    \n",
    "    >>> count_words('Bla bla bla.')\n",
    "    3\n",
    "    \"\"\"\n",
    "    \n",
    "    return len(text.split())"
   ]
  },
  {
   "cell_type": "code",
   "execution_count": 19,
   "metadata": {
    "collapsed": true
   },
   "outputs": [],
   "source": [
    "def count_lines(text):\n",
    "    r\"\"\"Return num of lines in txt\n",
    "    \n",
    "    >>> count_lines('Hello.\\n')\n",
    "    2\n",
    "    >>> count_lines ('Hello! \\nWelcome to Seattle!')\n",
    "    2\n",
    "    \"\"\"\n",
    "    \n",
    "    return len(text.split('\\n'))"
   ]
  },
  {
   "cell_type": "markdown",
   "metadata": {},
   "source": [
    "This is the code to open the txt file and call it 'f'\n"
   ]
  },
  {
   "cell_type": "code",
   "execution_count": 20,
   "metadata": {
    "collapsed": true
   },
   "outputs": [],
   "source": [
    "with open ('testfile.txt') as f:\n",
    "    text = f.read()"
   ]
  },
  {
   "cell_type": "code",
   "execution_count": 21,
   "metadata": {
    "collapsed": false
   },
   "outputs": [
    {
     "data": {
      "text/plain": [
       "TestResults(failed=0, attempted=4)"
      ]
     },
     "execution_count": 21,
     "metadata": {},
     "output_type": "execute_result"
    }
   ],
   "source": [
    "import doctest\n",
    "doctest.testmod()"
   ]
  },
  {
   "cell_type": "markdown",
   "metadata": {},
   "source": [
    "#### Use the multiple functions together\n",
    "\n",
    "For this example, the output is best stored as a dictionary\n",
    "1) Store as a dictionary\n",
    "2) Use for loop to:\n",
    "    - count each line\n",
    "    - count the words in each line\n",
    "    - count the characters in each line"
   ]
  },
  {
   "cell_type": "code",
   "execution_count": 34,
   "metadata": {
    "collapsed": true
   },
   "outputs": [],
   "source": [
    "def word_count(filename):\n",
    "    \"\"\"Return the count of lines, words, chars in file\n",
    "    >>> word_count ('testfile.txt')\n",
    "    {'lines': 6, 'words': 25, 'characters': 107}\"\"\"\n",
    "    \n",
    "    #create blank dictionary \n",
    "    counts = {\n",
    "        'lines' : 0,\n",
    "        \"words\" : 0,\n",
    "        \"characters\" :0\n",
    "    }\n",
    "    \n",
    "    #write a program that \n",
    "    with open (filename) as f:\n",
    "        for line in f:\n",
    "            counts[\"lines\"] += 1\n",
    "            counts[\"words\"] += count_words(line)\n",
    "            counts[\"characters\"] += count_characters(line)\n",
    "    return counts"
   ]
  },
  {
   "cell_type": "code",
   "execution_count": 35,
   "metadata": {
    "collapsed": false
   },
   "outputs": [
    {
     "data": {
      "text/plain": [
       "TestResults(failed=0, attempted=5)"
      ]
     },
     "execution_count": 35,
     "metadata": {},
     "output_type": "execute_result"
    }
   ],
   "source": [
    "import doctest\n",
    "doctest.testmod()"
   ]
  },
  {
   "cell_type": "markdown",
   "metadata": {},
   "source": [
    "#### Class Exercise: Check if a password satisfies character requirements\n",
    "\n",
    "1. import string - this enables us to get strings of digits, uppercase, lowercase and symbols (see below)\n",
    "2. write functions for each category e.g. count number of lower case letters in the text\n",
    "3. \n"
   ]
  },
  {
   "cell_type": "code",
   "execution_count": 38,
   "metadata": {
    "collapsed": true
   },
   "outputs": [],
   "source": [
    "import string"
   ]
  },
  {
   "cell_type": "code",
   "execution_count": 39,
   "metadata": {
    "collapsed": false
   },
   "outputs": [
    {
     "data": {
      "text/plain": [
       "'0123456789'"
      ]
     },
     "execution_count": 39,
     "metadata": {},
     "output_type": "execute_result"
    }
   ],
   "source": [
    "string.digits"
   ]
  },
  {
   "cell_type": "code",
   "execution_count": 40,
   "metadata": {
    "collapsed": false
   },
   "outputs": [
    {
     "data": {
      "text/plain": [
       "'ABCDEFGHIJKLMNOPQRSTUVWXYZ'"
      ]
     },
     "execution_count": 40,
     "metadata": {},
     "output_type": "execute_result"
    }
   ],
   "source": [
    "string.ascii_uppercase"
   ]
  },
  {
   "cell_type": "code",
   "execution_count": 41,
   "metadata": {
    "collapsed": false
   },
   "outputs": [
    {
     "data": {
      "text/plain": [
       "'abcdefghijklmnopqrstuvwxyz'"
      ]
     },
     "execution_count": 41,
     "metadata": {},
     "output_type": "execute_result"
    }
   ],
   "source": [
    "string.ascii_lowercase"
   ]
  },
  {
   "cell_type": "code",
   "execution_count": 42,
   "metadata": {
    "collapsed": false
   },
   "outputs": [
    {
     "data": {
      "text/plain": [
       "'!\"#$%&\\'()*+,-./:;<=>?@[\\\\]^_`{|}~'"
      ]
     },
     "execution_count": 42,
     "metadata": {},
     "output_type": "execute_result"
    }
   ],
   "source": [
    "string.punctuation"
   ]
  },
  {
   "cell_type": "code",
   "execution_count": 44,
   "metadata": {
    "collapsed": true
   },
   "outputs": [],
   "source": [
    "def count_lower(text):\n",
    "    \"\"\"Return number of lower case letters in text\n",
    "    >>> count_lower ('Mossy321!')\n",
    "    4\"\"\"\n",
    "    \n",
    "    count = 0\n",
    "    for char in text:\n",
    "        if char in string.ascii_lowercase:\n",
    "            count += 1\n",
    "    return count"
   ]
  },
  {
   "cell_type": "markdown",
   "metadata": {},
   "source": [
    "Code below is another way of writing the function with comprehension but for inexperienced programmers, it is very difficult to read & understand. It may run faster but general rule is that it is more important to have code that easily makes sense."
   ]
  },
  {
   "cell_type": "code",
   "execution_count": 56,
   "metadata": {
    "collapsed": true
   },
   "outputs": [],
   "source": [
    "def count_upper(text):\n",
    "    \"\"\"Return number of upper case letters in text\n",
    "    >>> count_upper ('Mossy321!')\n",
    "    1\"\"\"\n",
    "    \n",
    "    return sum(1 for c in text if c in string.ascii_uppercase)\n",
    "    "
   ]
  },
  {
   "cell_type": "code",
   "execution_count": 65,
   "metadata": {
    "collapsed": true
   },
   "outputs": [],
   "source": [
    "def count_digits (text):\n",
    "    \"\"\"Return number of digits in text\n",
    "    >>> count_digits ('Mossy321!')\n",
    "    3\"\"\"\n",
    "    \n",
    "    count = 0\n",
    "    for digit in text:\n",
    "        if digit in string.digits:\n",
    "            count += 1\n",
    "    return count"
   ]
  },
  {
   "cell_type": "code",
   "execution_count": 66,
   "metadata": {
    "collapsed": true
   },
   "outputs": [],
   "source": [
    "def count_symbols (text):\n",
    "    \"\"\"Return number of digits in text\n",
    "    >>> count_symbols ('Mossy321!')\n",
    "    1\"\"\"\n",
    "    \n",
    "    count = 0\n",
    "    for symbol in text:\n",
    "        if symbol in string.punctuation:\n",
    "            count += 1\n",
    "    return count"
   ]
  },
  {
   "cell_type": "code",
   "execution_count": 64,
   "metadata": {
    "collapsed": false
   },
   "outputs": [
    {
     "data": {
      "text/plain": [
       "TestResults(failed=0, attempted=10)"
      ]
     },
     "execution_count": 64,
     "metadata": {},
     "output_type": "execute_result"
    }
   ],
   "source": [
    "import doctest\n",
    "doctest.testmod()\n"
   ]
  },
  {
   "cell_type": "code",
   "execution_count": 53,
   "metadata": {
    "collapsed": true
   },
   "outputs": [],
   "source": [
    "password = 'Test123!'"
   ]
  },
  {
   "cell_type": "code",
   "execution_count": 54,
   "metadata": {
    "collapsed": false
   },
   "outputs": [
    {
     "data": {
      "text/plain": [
       "3"
      ]
     },
     "execution_count": 54,
     "metadata": {},
     "output_type": "execute_result"
    }
   ],
   "source": [
    "sum([1 for c in password if c in string.ascii_lowercase])"
   ]
  },
  {
   "cell_type": "code",
   "execution_count": 67,
   "metadata": {
    "collapsed": true
   },
   "outputs": [],
   "source": [
    "def count_password (text):\n",
    "    return {\n",
    "        'uppercase': count_upper(text),\n",
    "        'lowercase': count_lower(text),\n",
    "        'digits': count_digits(text),\n",
    "        'symbols': count_symbols (text)\n",
    "        \n",
    "    }"
   ]
  },
  {
   "cell_type": "code",
   "execution_count": 68,
   "metadata": {
    "collapsed": false
   },
   "outputs": [
    {
     "data": {
      "text/plain": [
       "{'uppercase': 1, 'lowercase': 3, 'digits': 3, 'symbols': 1}"
      ]
     },
     "execution_count": 68,
     "metadata": {},
     "output_type": "execute_result"
    }
   ],
   "source": [
    "count_password(password)"
   ]
  },
  {
   "cell_type": "code",
   "execution_count": 69,
   "metadata": {
    "collapsed": true
   },
   "outputs": [],
   "source": [
    "password_policy = {\n",
    "    'uppercase': 1, \n",
    "    'lowercase': 3, \n",
    "    'digits': 3, \n",
    "    'symbols': 1\n",
    "}"
   ]
  },
  {
   "cell_type": "code",
   "execution_count": 87,
   "metadata": {
    "collapsed": true
   },
   "outputs": [],
   "source": [
    "def is_valid_password (password, password_policy):\n",
    "    \"\"\"Return True if the password complies with policy\n",
    "    >>> is_valid_password ('Mossy',{'digits':1})\n",
    "    False\n",
    "    >>> policy = {'digits':2, 'symbols': 1, 'lowercase':1, 'uppercase':1}\n",
    "    >>> is_valid_password ('Mossy123!', password_policy)\n",
    "    True\n",
    "    \"\"\"\n",
    "    counts = count_password (password)\n",
    "    \n",
    "    for category, requirement in password_policy.items():\n",
    "        if counts[category] < requirement:\n",
    "            return False\n",
    "        \n",
    "        #compare requirement with val in our counts\n",
    "        #return False if fail\n",
    "        #print (category, requirement)\n",
    "    \n",
    "    return True\n",
    "        "
   ]
  },
  {
   "cell_type": "code",
   "execution_count": 98,
   "metadata": {
    "collapsed": false
   },
   "outputs": [
    {
     "data": {
      "text/plain": [
       "True"
      ]
     },
     "execution_count": 98,
     "metadata": {},
     "output_type": "execute_result"
    }
   ],
   "source": [
    "is_valid_password (\"HaMsterCat#1234B\", password_policy)"
   ]
  },
  {
   "cell_type": "markdown",
   "metadata": {},
   "source": [
    "### For feedback - more advanced !!"
   ]
  },
  {
   "cell_type": "code",
   "execution_count": 96,
   "metadata": {
    "collapsed": true
   },
   "outputs": [],
   "source": [
    "def is_valid_password (password, password_policy):\n",
    "    \"\"\"Return True if the password complies with policy\n",
    "    >>> is_valid_password ('Mossy',{'digits':1})\n",
    "    False\n",
    "    >>> policy = {'digits':2, 'symbols': 1, 'lowercase':1, 'uppercase':1}\n",
    "    >>> is_valid_password ('Mossy123!', password_policy)\n",
    "    True\n",
    "    \"\"\"\n",
    "    counts = count_password (password)\n",
    "    success = True\n",
    "    for category, requirement in password_policy.items():\n",
    "        if counts[category] < requirement:\n",
    "            success = False\n",
    "            if isinstance (feedback, list):\n",
    "                feedback.append (f'Password must contain at least'+ f'{requirement} {category}')\n",
    "        \n",
    "        #compare requirement with val in our counts\n",
    "        #return False if fail\n",
    "        #print (category, requirement)\n",
    "    \n",
    "    return success\n",
    "        "
   ]
  },
  {
   "cell_type": "code",
   "execution_count": 94,
   "metadata": {
    "collapsed": false
   },
   "outputs": [
    {
     "data": {
      "text/plain": [
       "False"
      ]
     },
     "execution_count": 94,
     "metadata": {},
     "output_type": "execute_result"
    }
   ],
   "source": [
    "feedback = []\n",
    "is_valid_password (\"blablabla\", password_policy)"
   ]
  },
  {
   "cell_type": "code",
   "execution_count": 95,
   "metadata": {
    "collapsed": false
   },
   "outputs": [
    {
     "data": {
      "text/plain": [
       "['Password must contain at least1 uppercase',\n",
       " 'Password must contain at least3 digits',\n",
       " 'Password must contain at least1 symbols']"
      ]
     },
     "execution_count": 95,
     "metadata": {},
     "output_type": "execute_result"
    }
   ],
   "source": [
    "feedback"
   ]
  },
  {
   "cell_type": "code",
   "execution_count": 89,
   "metadata": {
    "collapsed": false
   },
   "outputs": [
    {
     "data": {
      "text/plain": [
       "TestResults(failed=0, attempted=15)"
      ]
     },
     "execution_count": 89,
     "metadata": {},
     "output_type": "execute_result"
    }
   ],
   "source": [
    "doctest.testmod()\n"
   ]
  }
 ],
 "metadata": {
  "anaconda-cloud": {},
  "kernelspec": {
   "display_name": "Python [default]",
   "language": "python",
   "name": "python3"
  },
  "language_info": {
   "codemirror_mode": {
    "name": "ipython",
    "version": 3
   },
   "file_extension": ".py",
   "mimetype": "text/x-python",
   "name": "python",
   "nbconvert_exporter": "python",
   "pygments_lexer": "ipython3",
   "version": "3.5.2"
  }
 },
 "nbformat": 4,
 "nbformat_minor": 2
}
